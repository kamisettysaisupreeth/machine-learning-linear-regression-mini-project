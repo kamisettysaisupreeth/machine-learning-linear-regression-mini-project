{
 "cells": [
  {
   "cell_type": "markdown",
   "id": "1777c609",
   "metadata": {
    "papermill": {
     "duration": 0.010882,
     "end_time": "2021-12-08T12:37:48.112184",
     "exception": false,
     "start_time": "2021-12-08T12:37:48.101302",
     "status": "completed"
    },
    "tags": []
   },
   "source": [
    "**Import the libraries.**"
   ]
  },
  {
   "cell_type": "code",
   "execution_count": 1,
   "id": "343b3548",
   "metadata": {
    "execution": {
     "iopub.execute_input": "2021-12-08T12:37:48.142401Z",
     "iopub.status.busy": "2021-12-08T12:37:48.135245Z",
     "iopub.status.idle": "2021-12-08T12:37:48.145370Z",
     "shell.execute_reply": "2021-12-08T12:37:48.145878Z",
     "shell.execute_reply.started": "2021-12-08T12:36:49.071737Z"
    },
    "papermill": {
     "duration": 0.023753,
     "end_time": "2021-12-08T12:37:48.146195",
     "exception": false,
     "start_time": "2021-12-08T12:37:48.122442",
     "status": "completed"
    },
    "tags": []
   },
   "outputs": [],
   "source": [
    "import numpy as np #library used for working with arrays.\n",
    "import matplotlib.pyplot as plt #data visualization and graphical plotting library.\n",
    "import pandas as pd #library written for the Python programming language for data manipulation."
   ]
  },
  {
   "cell_type": "markdown",
   "id": "d23ed64f",
   "metadata": {
    "papermill": {
     "duration": 0.009432,
     "end_time": "2021-12-08T12:37:48.165565",
     "exception": false,
     "start_time": "2021-12-08T12:37:48.156133",
     "status": "completed"
    },
    "tags": []
   },
   "source": [
    "**Import the dataset.**\n",
    "In this section i am going to use dataset downloaded by me from https://www.kaggle.com/tmcketterick/heights-and-weights. "
   ]
  },
  {
   "cell_type": "code",
   "execution_count": 2,
   "id": "97a2fa2f",
   "metadata": {
    "execution": {
     "iopub.execute_input": "2021-12-08T12:37:48.194951Z",
     "iopub.status.busy": "2021-12-08T12:37:48.194161Z",
     "iopub.status.idle": "2021-12-08T12:37:48.235774Z",
     "shell.execute_reply": "2021-12-08T12:37:48.236247Z",
     "shell.execute_reply.started": "2021-12-08T12:36:49.080811Z"
    },
    "papermill": {
     "duration": 0.058184,
     "end_time": "2021-12-08T12:37:48.236433",
     "exception": false,
     "start_time": "2021-12-08T12:37:48.178249",
     "status": "completed"
    },
    "tags": []
   },
   "outputs": [
    {
     "data": {
      "text/html": [
       "<div>\n",
       "<style scoped>\n",
       "    .dataframe tbody tr th:only-of-type {\n",
       "        vertical-align: middle;\n",
       "    }\n",
       "\n",
       "    .dataframe tbody tr th {\n",
       "        vertical-align: top;\n",
       "    }\n",
       "\n",
       "    .dataframe thead th {\n",
       "        text-align: right;\n",
       "    }\n",
       "</style>\n",
       "<table border=\"1\" class=\"dataframe\">\n",
       "  <thead>\n",
       "    <tr style=\"text-align: right;\">\n",
       "      <th></th>\n",
       "      <th>Height</th>\n",
       "      <th>Weight</th>\n",
       "    </tr>\n",
       "  </thead>\n",
       "  <tbody>\n",
       "    <tr>\n",
       "      <th>0</th>\n",
       "      <td>1.47</td>\n",
       "      <td>52.21</td>\n",
       "    </tr>\n",
       "    <tr>\n",
       "      <th>1</th>\n",
       "      <td>1.50</td>\n",
       "      <td>53.12</td>\n",
       "    </tr>\n",
       "    <tr>\n",
       "      <th>2</th>\n",
       "      <td>1.52</td>\n",
       "      <td>54.48</td>\n",
       "    </tr>\n",
       "    <tr>\n",
       "      <th>3</th>\n",
       "      <td>1.55</td>\n",
       "      <td>55.84</td>\n",
       "    </tr>\n",
       "    <tr>\n",
       "      <th>4</th>\n",
       "      <td>1.57</td>\n",
       "      <td>57.20</td>\n",
       "    </tr>\n",
       "  </tbody>\n",
       "</table>\n",
       "</div>"
      ],
      "text/plain": [
       "   Height  Weight\n",
       "0    1.47   52.21\n",
       "1    1.50   53.12\n",
       "2    1.52   54.48\n",
       "3    1.55   55.84\n",
       "4    1.57   57.20"
      ]
     },
     "execution_count": 2,
     "metadata": {},
     "output_type": "execute_result"
    }
   ],
   "source": [
    "dataset = pd.read_csv('../input/heights-and-weights/data.csv')\n",
    "dataset.head() #returns top 5 rows from dataset."
   ]
  },
  {
   "cell_type": "code",
   "execution_count": 3,
   "id": "72a6306f",
   "metadata": {
    "execution": {
     "iopub.execute_input": "2021-12-08T12:37:48.278128Z",
     "iopub.status.busy": "2021-12-08T12:37:48.277115Z",
     "iopub.status.idle": "2021-12-08T12:37:48.280621Z",
     "shell.execute_reply": "2021-12-08T12:37:48.281088Z",
     "shell.execute_reply.started": "2021-12-08T12:36:49.111517Z"
    },
    "papermill": {
     "duration": 0.026169,
     "end_time": "2021-12-08T12:37:48.281270",
     "exception": false,
     "start_time": "2021-12-08T12:37:48.255101",
     "status": "completed"
    },
    "tags": []
   },
   "outputs": [
    {
     "data": {
      "text/plain": [
       "Height    15\n",
       "Weight    15\n",
       "dtype: int64"
      ]
     },
     "execution_count": 3,
     "metadata": {},
     "output_type": "execute_result"
    }
   ],
   "source": [
    "dataset.count()"
   ]
  },
  {
   "cell_type": "markdown",
   "id": "b73b3926",
   "metadata": {
    "papermill": {
     "duration": 0.017132,
     "end_time": "2021-12-08T12:37:48.311184",
     "exception": false,
     "start_time": "2021-12-08T12:37:48.294052",
     "status": "completed"
    },
    "tags": []
   },
   "source": [
    "This data set gives average masses for women as a function of their height in a sample of American women of age 30–39. \n",
    "The data contains the variables:\n",
    "Height (m)\n",
    "Weight (kg)."
   ]
  },
  {
   "cell_type": "code",
   "execution_count": 4,
   "id": "691a8c00",
   "metadata": {
    "execution": {
     "iopub.execute_input": "2021-12-08T12:37:48.335937Z",
     "iopub.status.busy": "2021-12-08T12:37:48.335082Z",
     "iopub.status.idle": "2021-12-08T12:37:48.338998Z",
     "shell.execute_reply": "2021-12-08T12:37:48.339541Z",
     "shell.execute_reply.started": "2021-12-08T12:36:49.125068Z"
    },
    "papermill": {
     "duration": 0.017788,
     "end_time": "2021-12-08T12:37:48.339727",
     "exception": false,
     "start_time": "2021-12-08T12:37:48.321939",
     "status": "completed"
    },
    "tags": []
   },
   "outputs": [],
   "source": [
    "X = dataset.iloc[:, :-1].values #returns all rows and first column\n",
    "y = dataset.iloc [:, -1].values #returns all rows and last column"
   ]
  },
  {
   "cell_type": "markdown",
   "id": "b30043cb",
   "metadata": {
    "papermill": {
     "duration": 0.010471,
     "end_time": "2021-12-08T12:37:48.361716",
     "exception": false,
     "start_time": "2021-12-08T12:37:48.351245",
     "status": "completed"
    },
    "tags": []
   },
   "source": [
    "**Splitting the dataset into the training set and test set.**"
   ]
  },
  {
   "cell_type": "code",
   "execution_count": 5,
   "id": "f3b72c0e",
   "metadata": {
    "execution": {
     "iopub.execute_input": "2021-12-08T12:37:48.386536Z",
     "iopub.status.busy": "2021-12-08T12:37:48.385861Z",
     "iopub.status.idle": "2021-12-08T12:37:49.539308Z",
     "shell.execute_reply": "2021-12-08T12:37:49.538704Z",
     "shell.execute_reply.started": "2021-12-08T12:36:49.137235Z"
    },
    "papermill": {
     "duration": 1.167039,
     "end_time": "2021-12-08T12:37:49.539474",
     "exception": false,
     "start_time": "2021-12-08T12:37:48.372435",
     "status": "completed"
    },
    "tags": []
   },
   "outputs": [],
   "source": [
    "from sklearn.model_selection import train_test_split\n",
    "X_train, X_test, y_train, y_test = train_test_split(X, y, test_size = 0.2, random_state = 0)\n",
    "#test_size - represent the proportion of the dataset to include in the train split."
   ]
  },
  {
   "cell_type": "markdown",
   "id": "5bda1ad1",
   "metadata": {
    "papermill": {
     "duration": 0.010047,
     "end_time": "2021-12-08T12:37:49.560177",
     "exception": false,
     "start_time": "2021-12-08T12:37:49.550130",
     "status": "completed"
    },
    "tags": []
   },
   "source": [
    "**Training the Simple Linear Regression model on the Training set.**"
   ]
  },
  {
   "cell_type": "code",
   "execution_count": 6,
   "id": "4f93db9b",
   "metadata": {
    "execution": {
     "iopub.execute_input": "2021-12-08T12:37:49.586764Z",
     "iopub.status.busy": "2021-12-08T12:37:49.586125Z",
     "iopub.status.idle": "2021-12-08T12:37:49.693103Z",
     "shell.execute_reply": "2021-12-08T12:37:49.692566Z",
     "shell.execute_reply.started": "2021-12-08T12:36:49.152121Z"
    },
    "papermill": {
     "duration": 0.122402,
     "end_time": "2021-12-08T12:37:49.693256",
     "exception": false,
     "start_time": "2021-12-08T12:37:49.570854",
     "status": "completed"
    },
    "tags": []
   },
   "outputs": [
    {
     "data": {
      "text/plain": [
       "LinearRegression()"
      ]
     },
     "execution_count": 6,
     "metadata": {},
     "output_type": "execute_result"
    }
   ],
   "source": [
    "from sklearn.linear_model import LinearRegression\n",
    "regressor = LinearRegression()\n",
    "regressor.fit(X_train, y_train)"
   ]
  },
  {
   "cell_type": "markdown",
   "id": "ef9d1e3e",
   "metadata": {
    "papermill": {
     "duration": 0.010306,
     "end_time": "2021-12-08T12:37:49.714279",
     "exception": false,
     "start_time": "2021-12-08T12:37:49.703973",
     "status": "completed"
    },
    "tags": []
   },
   "source": [
    "**Predicting the Test set results.**"
   ]
  },
  {
   "cell_type": "code",
   "execution_count": 7,
   "id": "9de35c31",
   "metadata": {
    "execution": {
     "iopub.execute_input": "2021-12-08T12:37:49.738814Z",
     "iopub.status.busy": "2021-12-08T12:37:49.738199Z",
     "iopub.status.idle": "2021-12-08T12:37:49.741950Z",
     "shell.execute_reply": "2021-12-08T12:37:49.742377Z",
     "shell.execute_reply.started": "2021-12-08T12:36:49.165024Z"
    },
    "papermill": {
     "duration": 0.017647,
     "end_time": "2021-12-08T12:37:49.742565",
     "exception": false,
     "start_time": "2021-12-08T12:37:49.724918",
     "status": "completed"
    },
    "tags": []
   },
   "outputs": [],
   "source": [
    "y_pred = regressor.predict(X_test)"
   ]
  },
  {
   "cell_type": "markdown",
   "id": "c494435f",
   "metadata": {
    "papermill": {
     "duration": 0.010179,
     "end_time": "2021-12-08T12:37:49.763357",
     "exception": false,
     "start_time": "2021-12-08T12:37:49.753178",
     "status": "completed"
    },
    "tags": []
   },
   "source": [
    "**Visualising the Training set results.**"
   ]
  },
  {
   "cell_type": "code",
   "execution_count": 8,
   "id": "cf77e1fe",
   "metadata": {
    "execution": {
     "iopub.execute_input": "2021-12-08T12:37:49.787721Z",
     "iopub.status.busy": "2021-12-08T12:37:49.787099Z",
     "iopub.status.idle": "2021-12-08T12:37:49.980623Z",
     "shell.execute_reply": "2021-12-08T12:37:49.981096Z",
     "shell.execute_reply.started": "2021-12-08T12:36:49.175268Z"
    },
    "papermill": {
     "duration": 0.207403,
     "end_time": "2021-12-08T12:37:49.981288",
     "exception": false,
     "start_time": "2021-12-08T12:37:49.773885",
     "status": "completed"
    },
    "tags": []
   },
   "outputs": [
    {
     "data": {
      "image/png": "[encoded data removed]",
      "text/plain": [
       "<Figure size 432x288 with 1 Axes>"
      ]
     },
     "metadata": {
      "needs_background": "light"
     },
     "output_type": "display_data"
    }
   ],
   "source": [
    "plt.scatter(X_train, y_train, color = 'red')\n",
    "plt.plot(X_train, regressor.predict(X_train), color = 'blue') #show the result of the training set\n",
    "plt.title('Height vs Weight (Training Set)')\n",
    "plt.xlabel('Height (m)')\n",
    "plt.ylabel('Weight (kg)')\n",
    "plt.show()\n"
   ]
  },
  {
   "cell_type": "markdown",
   "id": "15e05588",
   "metadata": {
    "papermill": {
     "duration": 0.011504,
     "end_time": "2021-12-08T12:37:50.004309",
     "exception": false,
     "start_time": "2021-12-08T12:37:49.992805",
     "status": "completed"
    },
    "tags": []
   },
   "source": [
    "**Visualising the Test set results.**"
   ]
  },
  {
   "cell_type": "code",
   "execution_count": 9,
   "id": "a2618aeb",
   "metadata": {
    "execution": {
     "iopub.execute_input": "2021-12-08T12:37:50.031203Z",
     "iopub.status.busy": "2021-12-08T12:37:50.030220Z",
     "iopub.status.idle": "2021-12-08T12:37:50.179801Z",
     "shell.execute_reply": "2021-12-08T12:37:50.180272Z",
     "shell.execute_reply.started": "2021-12-08T12:36:49.388971Z"
    },
    "papermill": {
     "duration": 0.164693,
     "end_time": "2021-12-08T12:37:50.180485",
     "exception": false,
     "start_time": "2021-12-08T12:37:50.015792",
     "status": "completed"
    },
    "tags": []
   },
   "outputs": [
    {
     "data": {
      "image/png": "[encoded data removed]",
      "text/plain": [
       "<Figure size 432x288 with 1 Axes>"
      ]
     },
     "metadata": {
      "needs_background": "light"
     },
     "output_type": "display_data"
    }
   ],
   "source": [
    "plt.scatter(X_test, y_test, color = 'red')\n",
    "plt.plot(X_train, regressor.predict(X_train), color = 'blue') #show the result of the training set\n",
    "plt.title('Height vs Weight (Test Set)')\n",
    "plt.xlabel('Height (m)')\n",
    "plt.ylabel('Weight (kg)')\n",
    "plt.show()"
   ]
  },
  {
   "cell_type": "markdown",
   "id": "99627075",
   "metadata": {
    "papermill": {
     "duration": 0.011583,
     "end_time": "2021-12-08T12:37:50.204234",
     "exception": false,
     "start_time": "2021-12-08T12:37:50.192651",
     "status": "completed"
    },
    "tags": []
   },
   "source": [
    "Thanks for the dataset @tmcketterick"
   ]
  }
 ],
 "metadata": {
  "kernelspec": {
   "display_name": "Python 3",
   "language": "python",
   "name": "python3"
  },
  "language_info": {
   "codemirror_mode": {
    "name": "ipython",
    "version": 3
   },
   "file_extension": ".py",
   "mimetype": "text/x-python",
   "name": "python",
   "nbconvert_exporter": "python",
   "pygments_lexer": "ipython3",
   "version": "3.7.12"
  },
  "papermill": {
   "default_parameters": {},
   "duration": 12.51225,
   "end_time": "2021-12-08T12:37:51.128137",
   "environment_variables": {},
   "exception": null,
   "input_path": "__notebook__.ipynb",
   "output_path": "__notebook__.ipynb",
   "parameters": {},
   "start_time": "2021-12-08T12:37:38.615887",
   "version": "2.3.3"
  }
 },
 "nbformat": 4,
 "nbformat_minor": 5
}
